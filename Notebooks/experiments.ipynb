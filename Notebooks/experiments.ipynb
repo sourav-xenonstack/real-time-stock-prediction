{
 "cells": [
  {
   "cell_type": "code",
   "execution_count": 2,
   "metadata": {},
   "outputs": [],
   "source": [
    "# Try to load new data to influx db\n",
    "\n",
    "import influxdb_client, os, time\n",
    "from influxdb_client import InfluxDBClient, Point, WritePrecision\n",
    "from influxdb_client.client.write_api import SYNCHRONOUS\n",
    "\n",
    "org = \"stock-prediction\"\n",
    "url = \"http://localhost:8086\"\n",
    "\n",
    "client = influxdb_client.InfluxDBClient(\n",
    "  url=url, \n",
    "  token=\"EnysbaBm6qTY1od55_6h2KE3keTlKgKGUqWX24MRQ813e_EgxrPCfNXoHDa0iC8SGdE7ZC5rK1BXdlJBQe372g==\", \n",
    "  org=org\n",
    "  )\n",
    "\n",
    "\n",
    "bucket=\"historical_data\"\n",
    "\n",
    "write_api = client.write_api(write_options=SYNCHRONOUS)\n",
    "\n",
    "for value in range(5):\n",
    "  point = (\n",
    "    Point(\"measurement1\")\n",
    "    .tag(\"tagname1\", \"tagvalue1\")\n",
    "    .field(\"field1\", value)\n",
    "  )\n",
    "  write_api.write(bucket=bucket, org=\"stock-prediction\", record=point)\n",
    "  time.sleep(1) # separate points by 1 second\n"
   ]
  },
  {
   "cell_type": "code",
   "execution_count": 3,
   "metadata": {},
   "outputs": [
    {
     "name": "stdout",
     "output_type": "stream",
     "text": [
      "FluxRecord() table: 0, {'result': '_result', 'table': 0, '_start': datetime.datetime(2023, 11, 6, 17, 25, 37, 650490, tzinfo=tzutc()), '_stop': datetime.datetime(2023, 11, 6, 17, 35, 37, 650490, tzinfo=tzutc()), '_time': datetime.datetime(2023, 11, 6, 17, 33, 45, 443729, tzinfo=tzutc()), '_value': 0, '_field': 'field1', '_measurement': 'measurement1', 'tagname1': 'tagvalue1'}\n",
      "FluxRecord() table: 0, {'result': '_result', 'table': 0, '_start': datetime.datetime(2023, 11, 6, 17, 25, 37, 650490, tzinfo=tzutc()), '_stop': datetime.datetime(2023, 11, 6, 17, 35, 37, 650490, tzinfo=tzutc()), '_time': datetime.datetime(2023, 11, 6, 17, 33, 46, 561614, tzinfo=tzutc()), '_value': 1, '_field': 'field1', '_measurement': 'measurement1', 'tagname1': 'tagvalue1'}\n",
      "FluxRecord() table: 0, {'result': '_result', 'table': 0, '_start': datetime.datetime(2023, 11, 6, 17, 25, 37, 650490, tzinfo=tzutc()), '_stop': datetime.datetime(2023, 11, 6, 17, 35, 37, 650490, tzinfo=tzutc()), '_time': datetime.datetime(2023, 11, 6, 17, 33, 47, 575329, tzinfo=tzutc()), '_value': 2, '_field': 'field1', '_measurement': 'measurement1', 'tagname1': 'tagvalue1'}\n",
      "FluxRecord() table: 0, {'result': '_result', 'table': 0, '_start': datetime.datetime(2023, 11, 6, 17, 25, 37, 650490, tzinfo=tzutc()), '_stop': datetime.datetime(2023, 11, 6, 17, 35, 37, 650490, tzinfo=tzutc()), '_time': datetime.datetime(2023, 11, 6, 17, 33, 48, 585467, tzinfo=tzutc()), '_value': 3, '_field': 'field1', '_measurement': 'measurement1', 'tagname1': 'tagvalue1'}\n",
      "FluxRecord() table: 0, {'result': '_result', 'table': 0, '_start': datetime.datetime(2023, 11, 6, 17, 25, 37, 650490, tzinfo=tzutc()), '_stop': datetime.datetime(2023, 11, 6, 17, 35, 37, 650490, tzinfo=tzutc()), '_time': datetime.datetime(2023, 11, 6, 17, 33, 49, 598678, tzinfo=tzutc()), '_value': 4, '_field': 'field1', '_measurement': 'measurement1', 'tagname1': 'tagvalue1'}\n",
      "FluxRecord() table: 0, {'result': '_result', 'table': 0, '_start': datetime.datetime(2023, 11, 6, 17, 25, 37, 650490, tzinfo=tzutc()), '_stop': datetime.datetime(2023, 11, 6, 17, 35, 37, 650490, tzinfo=tzutc()), '_time': datetime.datetime(2023, 11, 6, 17, 35, 29, 176267, tzinfo=tzutc()), '_value': 0, '_field': 'field1', '_measurement': 'measurement1', 'tagname1': 'tagvalue1'}\n",
      "FluxRecord() table: 0, {'result': '_result', 'table': 0, '_start': datetime.datetime(2023, 11, 6, 17, 25, 37, 650490, tzinfo=tzutc()), '_stop': datetime.datetime(2023, 11, 6, 17, 35, 37, 650490, tzinfo=tzutc()), '_time': datetime.datetime(2023, 11, 6, 17, 35, 30, 187872, tzinfo=tzutc()), '_value': 1, '_field': 'field1', '_measurement': 'measurement1', 'tagname1': 'tagvalue1'}\n",
      "FluxRecord() table: 0, {'result': '_result', 'table': 0, '_start': datetime.datetime(2023, 11, 6, 17, 25, 37, 650490, tzinfo=tzutc()), '_stop': datetime.datetime(2023, 11, 6, 17, 35, 37, 650490, tzinfo=tzutc()), '_time': datetime.datetime(2023, 11, 6, 17, 35, 31, 201683, tzinfo=tzutc()), '_value': 2, '_field': 'field1', '_measurement': 'measurement1', 'tagname1': 'tagvalue1'}\n",
      "FluxRecord() table: 0, {'result': '_result', 'table': 0, '_start': datetime.datetime(2023, 11, 6, 17, 25, 37, 650490, tzinfo=tzutc()), '_stop': datetime.datetime(2023, 11, 6, 17, 35, 37, 650490, tzinfo=tzutc()), '_time': datetime.datetime(2023, 11, 6, 17, 35, 32, 213572, tzinfo=tzutc()), '_value': 3, '_field': 'field1', '_measurement': 'measurement1', 'tagname1': 'tagvalue1'}\n",
      "FluxRecord() table: 0, {'result': '_result', 'table': 0, '_start': datetime.datetime(2023, 11, 6, 17, 25, 37, 650490, tzinfo=tzutc()), '_stop': datetime.datetime(2023, 11, 6, 17, 35, 37, 650490, tzinfo=tzutc()), '_time': datetime.datetime(2023, 11, 6, 17, 35, 33, 228520, tzinfo=tzutc()), '_value': 4, '_field': 'field1', '_measurement': 'measurement1', 'tagname1': 'tagvalue1'}\n"
     ]
    }
   ],
   "source": [
    "query_api = client.query_api()\n",
    "\n",
    "query = \"\"\"from(bucket: \"historical_data\")\n",
    " |> range(start: -10m)\n",
    " |> filter(fn: (r) => r._measurement == \"measurement1\")\"\"\"\n",
    "tables = query_api.query(query, org=\"stock-prediction\")\n",
    "\n",
    "for table in tables:\n",
    "  for record in table.records:\n",
    "    print(record)\n"
   ]
  },
  {
   "cell_type": "code",
   "execution_count": 4,
   "metadata": {},
   "outputs": [
    {
     "name": "stdout",
     "output_type": "stream",
     "text": [
      "FluxRecord() table: 0, {'result': '_result', 'table': 0, '_start': datetime.datetime(2023, 11, 6, 17, 25, 59, 101457, tzinfo=tzutc()), '_stop': datetime.datetime(2023, 11, 6, 17, 35, 59, 101457, tzinfo=tzutc()), '_value': 2.0, '_field': 'field1', '_measurement': 'measurement1', 'tagname1': 'tagvalue1'}\n"
     ]
    }
   ],
   "source": [
    "query_api = client.query_api()\n",
    "\n",
    "query = \"\"\"from(bucket: \"historical_data\")\n",
    "  |> range(start: -10m)\n",
    "  |> filter(fn: (r) => r._measurement == \"measurement1\")\n",
    "  |> mean()\"\"\"\n",
    "tables = query_api.query(query, org=\"stock-prediction\")\n",
    "\n",
    "for table in tables:\n",
    "    for record in table.records:\n",
    "        print(record)\n"
   ]
  }
 ],
 "metadata": {
  "kernelspec": {
   "display_name": ".venv",
   "language": "python",
   "name": "python3"
  },
  "language_info": {
   "codemirror_mode": {
    "name": "ipython",
    "version": 3
   },
   "file_extension": ".py",
   "mimetype": "text/x-python",
   "name": "python",
   "nbconvert_exporter": "python",
   "pygments_lexer": "ipython3",
   "version": "3.9.6"
  }
 },
 "nbformat": 4,
 "nbformat_minor": 2
}
